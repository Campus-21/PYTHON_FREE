{
 "cells": [
  {
   "cell_type": "markdown",
   "metadata": {},
   "source": [
    "## Основные типы данных\n",
    "\n",
    "| Тип объекта                      | Тип            |   Размер   |  Пример литерала |\n",
    "| -------------------------------- |:--------------:|:----------:| ----------------:|\n",
    "| Целые числа неограниченной длины | int            |            | 80\n",
    "| Целые числа                      | long           |            | 0xDEFABCECBDAECBFBAEl\n",
    "| Числа с плавающей точкой         | float          |            | 32.3+e18\n",
    "| Комлексные числа                 | complex        |            | .876j\n",
    "| Восьмеричные числа               |                |            | 0o27\n",
    "| Шестнадцатеричные числа          |                |            | 0x17\n",
    "| Двоичные числа          |                |            | 0b010101\n",
    "| Строки                           | str            |            | 'Тестовая строка' \n",
    "| Списки                           | []             |            | [1 , 3.4 , 'Элемент списка', 'элемент списка'] \n",
    "| Словари                          | () dict()             |            | ('x': 0, 'y': 1.1) \n",
    "| Кортежи                          |                |            | 10, 20, 30, 40 \n",
    "| Множества                        | {}  set()           |            | {1, 2, 3, 4 ,'string', \"string2\", \"\"\"string 3\"\"\"}\n",
    "| Булевы                           | bool           |            | True/False 1/0\n",
    "| Объекты None                           | Ссылка на отсутствующий объект         |            | None\n",
    "| Вызываемые типы                           | Генераторы, инструкции def, __сall__          |            | \n",
    "| Типы программных единиц          | Функции, модули, классы               |            |  \n",
    "| Типы, связанные с реализацией    | Скомпилированный код, трассировки стека                |            |  \n",
    "\n",
    "\n",
    "\n",
    "\n",
    "\n",
    "\n",
    "## Приведение типов\n",
    "\n",
    "Вывести тип переменной type(a) или type(\"Тест\") type(333) \n",
    "\n",
    "## Функции \n",
    "\n",
    "| №   |  Функция       |      Описание                                                        |\n",
    "| --- |:--------------:| --------------------------------------------------------------------:|\n",
    "| 1   | int(x [,base]) |  Конвертация x в тип целые числа |\n",
    "| 2 \t| long(x [,base] )| Конвертация x в long integer.\n",
    "| 3 \t| float(x)| Конвертация x to a floating-point number.\n",
    "| 4 \t| complex(real [,imag])| Creates a complex number.\n",
    "| 5 \t| str(x)| Конвертация object x to a string representation.\n",
    "| 6 \t| repr(x)|Конвертация object x to an expression string.|\n",
    "| 7 \t| eval(str) | Evaluates a string and returns an object.|\n",
    "| 8 \t| tuple(s)|Конвертация s to a tuple.|\n",
    "| 9 \t| list(s) | Конвертация s to a list.|\n",
    "| 10 \t| set(s) |Конвертация s to a set.|\n",
    "| 11 \t| dict(d) | Creates a dictionary. d must be a sequence of (key,value) tuples.|\n",
    "| 12 \t| frozenset(s) |Конвертация s to a frozen set.|\n",
    "| 13 \t| chr(x) |Конвертация an integer to a character. |\n",
    "| 14 \t| unichr(x) | Конвертация an integer to a Unicode character.|\n",
    "| 15    |\tord(x)| Конвертация a single character to its integer value. |\n",
    "| 16 \t| hex(x) | Конвертация an integer to a hexadecimal string.|\n",
    "| 17 \t| oct(x) |Конвертация an integer to an octal string.|\n",
    "\n"
   ]
  },
  {
   "cell_type": "code",
   "execution_count": 3,
   "metadata": {
    "scrolled": true
   },
   "outputs": [
    {
     "data": {
      "text/plain": [
       "str"
      ]
     },
     "execution_count": 3,
     "metadata": {},
     "output_type": "execute_result"
    }
   ],
   "source": [
    "## Типы переменных \n",
    "\n",
    "a = 'Тестовая строка'\n",
    "type(a) \n"
   ]
  },
  {
   "cell_type": "code",
   "execution_count": 4,
   "metadata": {},
   "outputs": [
    {
     "data": {
      "text/plain": [
       "str"
      ]
     },
     "execution_count": 4,
     "metadata": {},
     "output_type": "execute_result"
    }
   ],
   "source": [
    "type(\"Тест\") "
   ]
  },
  {
   "cell_type": "code",
   "execution_count": 5,
   "metadata": {},
   "outputs": [
    {
     "data": {
      "text/plain": [
       "int"
      ]
     },
     "execution_count": 5,
     "metadata": {},
     "output_type": "execute_result"
    }
   ],
   "source": [
    "type(333) "
   ]
  },
  {
   "cell_type": "code",
   "execution_count": 6,
   "metadata": {},
   "outputs": [
    {
     "data": {
      "text/plain": [
       "float"
      ]
     },
     "execution_count": 6,
     "metadata": {},
     "output_type": "execute_result"
    }
   ],
   "source": [
    "type(0.5) "
   ]
  },
  {
   "cell_type": "code",
   "execution_count": null,
   "metadata": {},
   "outputs": [],
   "source": []
  }
 ],
 "metadata": {
  "kernelspec": {
   "display_name": "Python 3",
   "language": "python",
   "name": "python3"
  },
  "language_info": {
   "codemirror_mode": {
    "name": "ipython",
    "version": 3
   },
   "file_extension": ".py",
   "mimetype": "text/x-python",
   "name": "python",
   "nbconvert_exporter": "python",
   "pygments_lexer": "ipython3",
   "version": "3.6.10"
  }
 },
 "nbformat": 4,
 "nbformat_minor": 4
}
