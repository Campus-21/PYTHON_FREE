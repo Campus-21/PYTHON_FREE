{
 "cells": [
  {
   "cell_type": "code",
   "execution_count": 1,
   "metadata": {},
   "outputs": [
    {
     "name": "stdout",
     "output_type": "stream",
     "text": [
      "4\n"
     ]
    }
   ],
   "source": [
    "#Напишите программу, которая ищет наибольший (не равный 1) общий делитель двух чисел, введённых пользователем\n",
    "#(num_1, num_2), \n",
    "#и выводит его на экран. Если общих делителей нет, выводит на экран \"Общих делителей не найдено\".\n",
    "#Для проверки используйте num_1 = 1812, num_2 = 2500\n",
    "\n",
    "#num_1 = int(input())\n",
    "#num_2 = int(input())\n",
    "num_1 = 1812\n",
    "num_2 = 2500\n",
    "max_i=0\n",
    "\n",
    "for i in range(1,num_1+1): \n",
    "    if num_1%i==0:\n",
    "        for j in range(1,num_2+1):\n",
    "            if num_2%j==0  and i !=1 and i==j : \n",
    "                if max_i<i: max_i=i\n",
    "                    \n",
    "    else: \n",
    "        break\n",
    "if max_i!=0: print(max_i)"
   ]
  },
  {
   "cell_type": "code",
   "execution_count": 2,
   "metadata": {},
   "outputs": [
    {
     "name": "stdout",
     "output_type": "stream",
     "text": [
      "стркция"
     ]
    }
   ],
   "source": [
    "#Напишите программу с использованием оператора continue, которая принимает на вход строку (string), после чего выводит её посимвольно, но без букв а, б, в. Пример: ввод \"арбуз\", вывод \"руз\".\n",
    "\n",
    "#Для проверки используйте string = 'абстракция'\n",
    "\n",
    "#PS: Чтобы выводить побуквенно в одну строчку, в фукнции print() предусмотрен параметр end. Если написать print('Hello!', end=''), следующий print() продолжит вывод не с новой строки.\n",
    "\n",
    "string = 'абстракция'\n",
    "alf_glas = ('а','б','в')\n",
    "for i in string:\n",
    "    if i not in alf_glas:  print(i, end='') \n",
    "    else: continue"
   ]
  },
  {
   "cell_type": "code",
   "execution_count": 3,
   "metadata": {},
   "outputs": [
    {
     "name": "stdout",
     "output_type": "stream",
     "text": [
      "Увы, это неправильный ответ\n",
      "Увы, это неправильный ответ\n",
      "Увы, это неправильный ответ\n",
      "Увы, это неправильный ответ\n",
      "Увы, это неправильный ответ\n",
      "Это безнадёжно!\n"
     ]
    }
   ],
   "source": [
    "#Напишите программу, которая анализирует ответы пользователя на вопрос \"Любите ли вы Python?\". \n",
    "#Если ответ пользователя (string) - \"Да\", то программа отвечает: \"Это отлично!\", иначе программа отвечает: \n",
    "#        \"Увы, это неправильный ответ\". Программа должна \"спросить\" пользователя максимум 5 раз. \n",
    "#        При пяти ответах \"Нет\" выводит: \"Это безнадёжно!\".\n",
    "#Для проверки используйте string = 'Нет', а на каждой итерации цикла не меняйте значение переменной.\n",
    "\n",
    "string = 'Нет'\n",
    "\n",
    "for i in range(5):      \n",
    "        if string == 'Да':\n",
    "            print('Это отлично!')\n",
    "            break \n",
    "        elif string == 'Нет': \n",
    "            print('Увы, это неправильный ответ')\n",
    "            if i == 4: \n",
    "                print('Это безнадёжно!')\n",
    "                break\n",
    "        string = 'Нет'"
   ]
  },
  {
   "cell_type": "code",
   "execution_count": 4,
   "metadata": {},
   "outputs": [
    {
     "name": "stdout",
     "output_type": "stream",
     "text": [
      "Простое\n"
     ]
    }
   ],
   "source": [
    "#Напишите программу, которая проверяет, является ли введённое число (number) простым. \n",
    "#Если число простое, то программа выводит \"Простое\", иначе \"Не является простым\".\n",
    "\n",
    "#Для проверки используйте number = 173\n",
    "\n",
    "number = 173\n",
    "\n",
    "if number < 2:\n",
    "    print(\"Число должно быть больше 1\")\n",
    "    quit()\n",
    "\n",
    "elif number == 2:\n",
    "    print(\"Простое\")\n",
    "    quit()\n",
    "\n",
    "i = 2 \n",
    "limit = int(number**(1/2))\n",
    "while i <= limit:\n",
    "    if number % i == 0:\n",
    "        print('Не является простым')\n",
    "        quit() \n",
    "    i += 1\n",
    "print(\"Простое\")\n"
   ]
  },
  {
   "cell_type": "code",
   "execution_count": 5,
   "metadata": {},
   "outputs": [
    {
     "name": "stdout",
     "output_type": "stream",
     "text": [
      "Строка мне не нравится!\n"
     ]
    }
   ],
   "source": [
    "#Напишите программу, которая проверяет введённую пользователем строку (string)\n",
    "#на соответствие правилу: у строки нет ни одной гласной русской маленькой буквы на каждой чётной позиции. Пример подходящей строки: \"пока!\" (в Python первый символ является нулевым, поэтому мы считаем первый символ чётным). Если строка подходит, программа выводит на экран \"Какая хорошая строка!\",\n",
    "#а иначе — \"Строка мне не нравится!\".\n",
    "\n",
    "#Для проверки используйте string = 'прелестная строка'\n",
    "\n",
    "string = 'прелестная строка'\n",
    "alf_glas = ('а', 'у', 'о', 'ы', 'и', 'э', 'я', 'ю', 'е')\n",
    "poz=0\n",
    "for i in string :\n",
    "    poz=poz+1\n",
    "    if poz%2 == 0 and (i not in alf_glas) : \n",
    "        print('Строка мне не нравится!')\n",
    "        break\n",
    "    elif poz == len(string):  print('Какая хорошая строка!') \n",
    "    else:  continue\n"
   ]
  },
  {
   "cell_type": "code",
   "execution_count": null,
   "metadata": {},
   "outputs": [],
   "source": []
  }
 ],
 "metadata": {
  "kernelspec": {
   "display_name": "Python 3",
   "language": "python",
   "name": "python3"
  },
  "language_info": {
   "codemirror_mode": {
    "name": "ipython",
    "version": 3
   },
   "file_extension": ".py",
   "mimetype": "text/x-python",
   "name": "python",
   "nbconvert_exporter": "python",
   "pygments_lexer": "ipython3",
   "version": "3.6.10"
  }
 },
 "nbformat": 4,
 "nbformat_minor": 4
}
