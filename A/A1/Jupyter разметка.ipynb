{
 "cells": [
  {
   "cell_type": "code",
   "execution_count": 1,
   "metadata": {},
   "outputs": [
    {
     "data": {
      "text/plain": [
       "4"
      ]
     },
     "execution_count": 1,
     "metadata": {},
     "output_type": "execute_result"
    }
   ],
   "source": [
    "#Code \n",
    "2+2"
   ]
  },
  {
   "cell_type": "markdown",
   "metadata": {},
   "source": [
    "#Markdown - текст с разметкой\n",
    "\n",
    "# Заголовки\n",
    "\n",
    "# h1\n",
    "## h2\n",
    "### h3\n",
    "#### h4\n",
    "##### h5\n",
    "###### h6\n",
    "\n",
    "===========================\n",
    "\n",
    "# Списки\n",
    "\n",
    "\n",
    "* Ненумерованный список можно размечать звездочками\n",
    "- Или минусами\n",
    "+ Или плюсами\n",
    "\n",
    "\n",
    "- Первый элемент списка\n",
    "- Второй элемент списка \n",
    "\n",
    "\n",
    "===========================\n",
    "\n",
    "# Ссылки \n",
    "\n",
    "\n",
    "Обычная ссылка в строке](https://www.ya.com)\n",
    "\n",
    "[Обычная ссылка с title](https://www.ya.com \"Сайт яндекс\")\n",
    "\n",
    "[Ссылка со сноской][Произвольный регистронезависимый текст]\n",
    "\n",
    "[Относительная ссылка на документ](../blob/master/LICENSE)\n",
    "\n",
    "[Для ссылок со сноской можно использовать цифры][1]\n",
    "\n",
    "Или можно просто вставить ссылку в квадратные скобки [текст ссылки]\n",
    "\n",
    "Произвольный текст, после которого можно привести ссылки.\n",
    "\n",
    "[произвольный регистронезависимый текст]: https://www.mozilla.org\n",
    "[1]: http://slashdot.org\n",
    "[текст ссылки]: http://www.github.com\n",
    "\n",
    "===========================\n",
    "\n",
    "\n",
    "# Изображения\n",
    "\n",
    "Изображение с заголовком (наведите указатель, чтобы увидеть текст заголовка):\n",
    "\n",
    "Внутри строки:  \n",
    "![alt-текст](https://github.com/adam-p/markdown-here/raw/master/src/common/images/icon48.png \"Campus-21 \")\n",
    "\n",
    "В сноске:  \n",
    "![alt-текст][logo]\n",
    "\n",
    "[logo]: https://github.com/adam-p/markdown-here/raw/master/src/common/images/icon48.png \"Campus-21\"\n",
    "\n",
    "\n",
    "===========================\n",
    "\n",
    "\n",
    "\n",
    "# Таблица \n",
    "\n",
    "| Таблицы       | Столбец            | Итоги |\n",
    "| ------------- |:------------------:| -----:|\n",
    "| столбец 3     | выровнен вправо    | резудьтат |\n",
    "| столбец 2     | выровнен по центру |   результат |\n",
    "| строка  n  | итого         |   результат |\n",
    "\n",
    "\n",
    "===========================\n",
    "\n",
    "# и многое другое https://markdown-here.com \n",
    "\n"
   ]
  },
  {
   "cell_type": "code",
   "execution_count": null,
   "metadata": {},
   "outputs": [],
   "source": []
  }
 ],
 "metadata": {
  "kernelspec": {
   "display_name": "Python 3",
   "language": "python",
   "name": "python3"
  },
  "language_info": {
   "codemirror_mode": {
    "name": "ipython",
    "version": 3
   },
   "file_extension": ".py",
   "mimetype": "text/x-python",
   "name": "python",
   "nbconvert_exporter": "python",
   "pygments_lexer": "ipython3",
   "version": "3.6.10"
  }
 },
 "nbformat": 4,
 "nbformat_minor": 4
}
