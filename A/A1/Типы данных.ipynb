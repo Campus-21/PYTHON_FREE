{
 "cells": [
  {
   "cell_type": "markdown",
   "metadata": {},
   "source": [
    "## Основные типы данных\n",
    "\n",
    "| Тип объекта                      | Тип            |   Размер   |  Пример литерала |\n",
    "| -------------------------------- |:--------------:|:----------:| ----------------:|\n",
    "| Целые числа неограниченной длины | int            |            | 80\n",
    "| Целые числа                      | long           |            | 0xDEFABCECBDAECBFBAEl\n",
    "| Числа с плавающей точкой         | float          |            | 32.3+e18\n",
    "| Комлексные числа                 | complex        |            | .876j\n",
    "| Восьмеричные числа               |                |            | 0o27\n",
    "| Шестнадцатеричные числа          |                |            | 0x17\n",
    "| Двоичные числа          |                |            | 0b010101\n",
    "| Строки                           | str            |            | 'Тестовая строка' \n",
    "| Списки                           | []             |            | [1 , 3.4 , 'Элемент списка', 'элемент списка'] \n",
    "| Словари                          | () dict()             |            | ('x': 0, 'y': 1.1) \n",
    "| Кортежи                          |                |            | 10, 20, 30, 40 \n",
    "| Множества                        | {}  set()           |            | {1, 2, 3, 4 ,'string', \"string2\", \"\"\"string 3\"\"\"}\n",
    "| Булевы                           | bool           |            | True/False 1/0\n",
    "| Объекты None                           | Ссылка на отсутствующий объект         |            | None\n",
    "| Вызываемые типы                           | Генераторы, инструкции def, __сall__          |            | \n",
    "| Типы программных единиц          | Функции, модули, классы               |            |  \n",
    "| Типы, связанные с реализацией    | Скомпилированный код, трассировки стека                |            |  \n",
    "\n",
    "\n",
    "\n",
    "\n",
    "\n",
    "\n",
    "## Приведение типов\n",
    "\n",
    "Вывести тип переменной type(a) или type(\"Тест\") type(333) \n",
    "\n",
    "## Функции \n",
    "\n",
    "| №   |  Функция       |      Описание                                                        |\n",
    "| --- |:--------------:| --------------------------------------------------------------------:|\n",
    "| 1   | int(x [,base]) |  Конвертация x в тип целые числа |\n",
    "| 2 \t| long(x [,base] )| Конвертация x в long integer.\n",
    "| 3 \t| float(x)| Конвертация x to a floating-point number.\n",
    "| 4 \t| complex(real [,imag])| Creates a complex number.\n",
    "| 5 \t| str(x)| Конвертация object x to a string representation.\n",
    "| 6 \t| repr(x)|Конвертация object x to an expression string.|\n",
    "| 7 \t| eval(str) | Evaluates a string and returns an object.|\n",
    "| 8 \t| tuple(s)|Конвертация s to a tuple.|\n",
    "| 9 \t| list(s) | Конвертация s to a list.|\n",
    "| 10 \t| set(s) |Конвертация s to a set.|\n",
    "| 11 \t| dict(d) | Creates a dictionary. d must be a sequence of (key,value) tuples.|\n",
    "| 12 \t| frozenset(s) |Конвертация s to a frozen set.|\n",
    "| 13 \t| chr(x) |Конвертация an integer to a character. |\n",
    "| 14 \t| unichr(x) | Конвертация an integer to a Unicode character.|\n",
    "| 15    |\tord(x)| Конвертация a single character to its integer value. |\n",
    "| 16 \t| hex(x) | Конвертация an integer to a hexadecimal string.|\n",
    "| 17 \t| oct(x) |Конвертация an integer to an octal string.|\n",
    "\n"
   ]
  },
  {
   "cell_type": "code",
   "execution_count": 3,
   "metadata": {
    "scrolled": true
   },
   "outputs": [
    {
     "data": {
      "text/plain": [
       "str"
      ]
     },
     "execution_count": 3,
     "metadata": {},
     "output_type": "execute_result"
    }
   ],
   "source": [
    "## Типы переменных \n",
    "\n",
    "a = 'Тестовая строка'\n",
    "type(a) \n"
   ]
  },
  {
   "cell_type": "code",
   "execution_count": 4,
   "metadata": {},
   "outputs": [
    {
     "data": {
      "text/plain": [
       "str"
      ]
     },
     "execution_count": 4,
     "metadata": {},
     "output_type": "execute_result"
    }
   ],
   "source": [
    "type(\"Тест\") "
   ]
  },
  {
   "cell_type": "code",
   "execution_count": 5,
   "metadata": {},
   "outputs": [
    {
     "data": {
      "text/plain": [
       "int"
      ]
     },
     "execution_count": 5,
     "metadata": {},
     "output_type": "execute_result"
    }
   ],
   "source": [
    "type(333) "
   ]
  },
  {
   "cell_type": "code",
   "execution_count": 6,
   "metadata": {},
   "outputs": [
    {
     "data": {
      "text/plain": [
       "float"
      ]
     },
     "execution_count": 6,
     "metadata": {},
     "output_type": "execute_result"
    }
   ],
   "source": [
    "type(0.5) "
   ]
  },
  {
   "cell_type": "code",
   "execution_count": null,
   "metadata": {},
   "outputs": [],
   "source": [
    "type(input())"
   ]
  },
  {
   "cell_type": "code",
   "execution_count": 8,
   "metadata": {},
   "outputs": [
    {
     "name": "stdout",
     "output_type": "stream",
     "text": [
      "Иван Водовозов\n",
      "Сегодня Вас зовут Иван Водовозов\n"
     ]
    }
   ],
   "source": [
    "# Напишите программу, которая просит пользователя ввести своё имя в переменную name, \n",
    "#а затем выводит на экран фразу: \"Сегодня Вас зовут ...\", где вместо многоточия отображается имя пользователя.\n",
    "\n",
    "name = str(input())\n",
    "print('Сегодня Вас зовут ' +name)"
   ]
  },
  {
   "cell_type": "code",
   "execution_count": 9,
   "metadata": {},
   "outputs": [
    {
     "name": "stdout",
     "output_type": "stream",
     "text": [
      "Репроприация\n",
      "12\n"
     ]
    }
   ],
   "source": [
    "# Напишите программу, \n",
    "#которая выводит на экран длину слова, значение которого хранится в переменной word. Вместо word = input() \n",
    "\n",
    "word = str(input())\n",
    "print(len(word))"
   ]
  },
  {
   "cell_type": "code",
   "execution_count": 1,
   "metadata": {},
   "outputs": [
    {
     "name": "stdout",
     "output_type": "stream",
     "text": [
      "20\n",
      "3\n",
      "2\n"
     ]
    }
   ],
   "source": [
    "#Напишите программу, которая принимает на вход два целых числа (a и b) \n",
    "# и выводит на экран остаток от деления первого числа а на второе число b.\n",
    "\n",
    "a = int(input())\n",
    "b = int(input())\n",
    "print(a%b)\n",
    "      "
   ]
  },
  {
   "cell_type": "code",
   "execution_count": 3,
   "metadata": {},
   "outputs": [
    {
     "name": "stdout",
     "output_type": "stream",
     "text": [
      "2.4\n",
      "5\n",
      "8\n",
      "4.5788569702133275\n"
     ]
    }
   ],
   "source": [
    "#Напишите программу, с помощью которой пользователь может ввести три положительных \n",
    "#числа и увидеть на экране их среднее геометрическое. Названия переменных a, b, c.\n",
    "a = float(input())\n",
    "b = float(input())\n",
    "c = float(input())\n",
    "\n",
    "print(pow(a*b*c, (1/3)))"
   ]
  },
  {
   "cell_type": "code",
   "execution_count": 4,
   "metadata": {},
   "outputs": [
    {
     "name": "stdout",
     "output_type": "stream",
     "text": [
      "3.5\n",
      "151.8085\n"
     ]
    }
   ],
   "source": [
    "#Напишите программу, с помощью которой пользователь\n",
    "#может рассчитать значение функции, предварительно указав значение аргумента x.\n",
    "\n",
    "x = float(input()) \n",
    "print(6.996+45*(x/2)**2+2*x)"
   ]
  },
  {
   "cell_type": "code",
   "execution_count": null,
   "metadata": {},
   "outputs": [],
   "source": [
    "#Напишите программу, с помощью которой пользователь сможет рассчитать свой индекс массы тела \n",
    "#(ИМТ - масса тела в килограммах делённая на квадрат роста в метрах).\n",
    "#Выведите ИМТ на экран. Названия переменных weight и height.\n",
    "\n",
    "weight = float(input('Введите ваш рост: \\n')) \n",
    "height = float(input('Введите ваш вес: \\n')) \n",
    "print('Индекс массы тела', weight /height**2)"
   ]
  },
  {
   "cell_type": "code",
   "execution_count": null,
   "metadata": {},
   "outputs": [],
   "source": [
    "# Напишите программу, которая принимает на вход два числа a и b и выводит корень третьей степени их среднего арифметического на экран.\n",
    "\n",
    "a = float(input())\n",
    "b = float(input())\n",
    "print(pow(((a+b)/2),(1/3)))"
   ]
  },
  {
   "cell_type": "code",
   "execution_count": null,
   "metadata": {},
   "outputs": [],
   "source": [
    "#Напишите программу, которая принимает на вход целое число, умножает его на 3 и выводит на экран сообщение: \"Вы ввели число, которое при умножении на 3 даёт ...\". \n",
    "#В сообщении вместо многоточия должен быть отображён результат умножения в виде целого числа.\n",
    "\n",
    "a = int(input())\n",
    "print('Вы ввели число, которое при умножении на 3 даёт '+str(a*3))    "
   ]
  },
  {
   "cell_type": "code",
   "execution_count": null,
   "metadata": {},
   "outputs": [],
   "source": [
    "#Напишите программу, которая на вход принимает 3 строки и выводит \n",
    "#на экран среднее геометрическое длин этих строк Названия переменных string_1, string_2, string_3. \n",
    "\n",
    "string_1 = str(input())  \n",
    "string_2 = str(input()) \n",
    "string_3 = str(input())\n",
    "print(pow((len(string_1)*len(string_2)*len(string_3)),(1/3)))"
   ]
  },
  {
   "cell_type": "code",
   "execution_count": null,
   "metadata": {},
   "outputs": [],
   "source": [
    "#Напишите программу, которая принимает на вход строку и целое число и выводит \n",
    "#на экран эту строку, её длину и её длину в степени введённого целого числа.\n",
    "#При введении, например, строки \"привет\" и числа 2 на экране должно быть выведено \"привет 6 36\".\n",
    "#Названия переменных string и power.\n",
    "\n",
    "string = str(input())  \n",
    "power = int(input())\n",
    "print(string+' '+str(len(string))+' '+str(len(string)**power))"
   ]
  },
  {
   "cell_type": "code",
   "execution_count": null,
   "metadata": {},
   "outputs": [],
   "source": []
  },
  {
   "cell_type": "code",
   "execution_count": null,
   "metadata": {},
   "outputs": [],
   "source": []
  },
  {
   "cell_type": "code",
   "execution_count": null,
   "metadata": {},
   "outputs": [],
   "source": []
  }
 ],
 "metadata": {
  "kernelspec": {
   "display_name": "Python 3",
   "language": "python",
   "name": "python3"
  },
  "language_info": {
   "codemirror_mode": {
    "name": "ipython",
    "version": 3
   },
   "file_extension": ".py",
   "mimetype": "text/x-python",
   "name": "python",
   "nbconvert_exporter": "python",
   "pygments_lexer": "ipython3",
   "version": "3.6.10"
  }
 },
 "nbformat": 4,
 "nbformat_minor": 4
}
