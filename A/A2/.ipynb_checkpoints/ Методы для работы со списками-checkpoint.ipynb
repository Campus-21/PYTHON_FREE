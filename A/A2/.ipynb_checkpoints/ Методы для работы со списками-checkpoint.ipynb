{
 "cells": [
  {
   "cell_type": "code",
   "execution_count": 2,
   "metadata": {},
   "outputs": [],
   "source": [
    "#Напишите программу, которая создаёт список, содержащий целые, кратные трём числа в интервале от 1 до 50.\n",
    "#Найдите сумму элементов этого списка. Результат вычислений сохраните в переменной с именем result.\n",
    "\n",
    "list_1 = []\n",
    "result = 0\n",
    "for i in range(3, 51, 3):\n",
    "    list_1.append(i)\n",
    "    result+= i"
   ]
  },
  {
   "cell_type": "code",
   "execution_count": 3,
   "metadata": {},
   "outputs": [
    {
     "name": "stdout",
     "output_type": "stream",
     "text": [
      "15\n"
     ]
    }
   ],
   "source": [
    "#Напишите программу, которая создаёт список my_list, содержащий длины слов из списка\n",
    "#raw_list (дан в начале кода), и находит сумму минимального и максимального элементов нового списка (my_list). \n",
    "#Результат вычислений (сумма минимального и максимального элементов списка my_list) \n",
    "#присвойте переменной result.\n",
    "\n",
    "raw_list = ['переменные', 'циклы', 'условия', 'списки', 'словари', 'файлы', 'функции']\n",
    "my_listc = []\n",
    "max_l = 0\n",
    "min_l = 0 \n",
    "\n",
    "for i in range(0,len(raw_list)):\n",
    "    my_listc.append(len(raw_list[i]))\n",
    "\n",
    "result = min(my_listc) + max(my_listc)\n",
    "print (result)"
   ]
  },
  {
   "cell_type": "code",
   "execution_count": 4,
   "metadata": {},
   "outputs": [],
   "source": [
    "#Дан список raw_list (содержимое списка приведено в начале кода). \n",
    "#Найдите минимальное (x_min) и максимальное (x_max) значения элементов данного списка.\n",
    "#Создайте новый список my_list, состоящий из элементов списка raw_list, умноженных на x_min, \n",
    "#если элемент является чётным числом и на x_max в случае, если элемент нечётный.\n",
    "#Найдите максимальное значение списка my_list. Результат присвойте переменной result.\n",
    "\n",
    "\n",
    "raw_list = [2, 8, 10, 23, 64, 49, 11, 52, 71, 14] \n",
    "x_max = max(raw_list)\n",
    "x_min = min(raw_list)\n",
    "my_list=[]\n",
    "\n",
    "for i in range(0, len(raw_list)):\n",
    "    if raw_list[i]%2 == 0: \n",
    "         my_list.append (raw_list[i] * x_min)\n",
    "    else: my_list.append(raw_list[i] * x_max)\n",
    " \n",
    "result = max(my_list)"
   ]
  },
  {
   "cell_type": "code",
   "execution_count": null,
   "metadata": {},
   "outputs": [],
   "source": []
  }
 ],
 "metadata": {
  "kernelspec": {
   "display_name": "Python 3",
   "language": "python",
   "name": "python3"
  },
  "language_info": {
   "codemirror_mode": {
    "name": "ipython",
    "version": 3
   },
   "file_extension": ".py",
   "mimetype": "text/x-python",
   "name": "python",
   "nbconvert_exporter": "python",
   "pygments_lexer": "ipython3",
   "version": "3.6.10"
  }
 },
 "nbformat": 4,
 "nbformat_minor": 4
}
