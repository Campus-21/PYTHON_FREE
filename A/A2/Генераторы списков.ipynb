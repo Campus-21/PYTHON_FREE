{
 "cells": [
  {
   "cell_type": "code",
   "execution_count": 1,
   "metadata": {},
   "outputs": [],
   "source": [
    "#Создать список содержащий числа от 3 до 99, кратные трём \n",
    "numbers = [x for x in range(3,100,3)] "
   ]
  },
  {
   "cell_type": "code",
   "execution_count": 2,
   "metadata": {},
   "outputs": [],
   "source": [
    "#Создать список содержащий квадраты всех двузначных чисел, кратных пяти верно \n",
    "numbers = [x**2 for x in range(10, 100, 5)]"
   ]
  },
  {
   "cell_type": "code",
   "execution_count": 3,
   "metadata": {},
   "outputs": [],
   "source": [
    "#Создать список содержащий числа от 1 до 63 включительно, кратные 3, 5 или 7\n",
    "numbers = [x*y for x in range(1, 10) for y in [3, 5, 7]]"
   ]
  },
  {
   "cell_type": "code",
   "execution_count": 4,
   "metadata": {},
   "outputs": [],
   "source": [
    "#Создать список содержащий числа от 1 до 99, кратные 3, 5 или 7 верно \n",
    "numbers = [x for x in range(1, 100) if x%3 == 0 or x%5 == 0 or x%7 == 0]"
   ]
  },
  {
   "cell_type": "code",
   "execution_count": 5,
   "metadata": {},
   "outputs": [],
   "source": [
    "#Создать список содержащий все простые числа в интервале от 3 до 100\n",
    "numbers = [x for x in range(3,100) if [x%y for y in range(2,x)].count(0) == 0]"
   ]
  },
  {
   "cell_type": "code",
   "execution_count": 6,
   "metadata": {},
   "outputs": [],
   "source": [
    "#Создать список содержащий согласные буквы из слова \"привет\"\n",
    "my_list = [x for x in 'привет' if x in ['п', 'р', 'в', 'т']]"
   ]
  },
  {
   "cell_type": "code",
   "execution_count": 7,
   "metadata": {},
   "outputs": [],
   "source": [
    "#Создать список содержащий  буквы из слова \"синхрофазотрон\", расставленные в алфавитном порядке\n",
    " my_list = sorted([x for x in 'синхрофазотрон'])"
   ]
  },
  {
   "cell_type": "code",
   "execution_count": 9,
   "metadata": {},
   "outputs": [],
   "source": [
    "#Создать список содержащий значения 90%, 100% и 110% от каждого целого числа в интервале от 11 до 19 включительно\n",
    "my_list = [x*y for x in range(11,20) for y in [0.9, 1, 1.1]]\n"
   ]
  },
  {
   "cell_type": "code",
   "execution_count": 10,
   "metadata": {},
   "outputs": [],
   "source": [
    "#=========================================Создание списка циклом=====================\n",
    "\n",
    "my_list = []\n",
    "for x in range(1, 50):\n",
    "    if x%7 == 0:\n",
    "        my_list.append(x**0.5)\n",
    "        \n",
    "#=========================================Создание списка генератором====================\n",
    "\n",
    "my_list = [x**0.5 for x  in range(1, 50) if x%7==0 ]"
   ]
  },
  {
   "cell_type": "code",
   "execution_count": 13,
   "metadata": {},
   "outputs": [],
   "source": [
    "#=========================================Создание списка циклом=====================\n",
    "my_list = []\n",
    "for x in range(90, 100):\n",
    "    first_digit = x//10\n",
    "    last_digit = x%10\n",
    "    my_list.append(first_digit + last_digit)\n",
    "    \n",
    "#=========================================Создание списка генератором====================    \n",
    " \n",
    "my_list = my_list = [ x//10 + x%10  for x in range(90, 100)  ]   "
   ]
  },
  {
   "cell_type": "code",
   "execution_count": null,
   "metadata": {},
   "outputs": [],
   "source": []
  }
 ],
 "metadata": {
  "kernelspec": {
   "display_name": "Python 3",
   "language": "python",
   "name": "python3"
  },
  "language_info": {
   "codemirror_mode": {
    "name": "ipython",
    "version": 3
   },
   "file_extension": ".py",
   "mimetype": "text/x-python",
   "name": "python",
   "nbconvert_exporter": "python",
   "pygments_lexer": "ipython3",
   "version": "3.6.10"
  }
 },
 "nbformat": 4,
 "nbformat_minor": 4
}
